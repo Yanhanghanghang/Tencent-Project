{
 "cells": [
  {
   "cell_type": "code",
   "execution_count": 5,
   "metadata": {},
   "outputs": [
    {
     "ename": "FileNotFoundError",
     "evalue": "[Errno 2] No such file or directory: ''",
     "output_type": "error",
     "traceback": [
      "\u001b[0;31m---------------------------------------------------------------------------\u001b[0m",
      "\u001b[0;31mFileNotFoundError\u001b[0m                         Traceback (most recent call last)",
      "\u001b[0;32m<ipython-input-5-0edb2339e377>\u001b[0m in \u001b[0;36m<module>\u001b[0;34m\u001b[0m\n\u001b[1;32m     12\u001b[0m \u001b[0mmask\u001b[0m \u001b[0;34m=\u001b[0m \u001b[0;34m\"\"\u001b[0m\u001b[0;34m\u001b[0m\u001b[0;34m\u001b[0m\u001b[0m\n\u001b[1;32m     13\u001b[0m \u001b[0;34m\u001b[0m\u001b[0m\n\u001b[0;32m---> 14\u001b[0;31m \u001b[0mx264s\u001b[0m \u001b[0;34m=\u001b[0m \u001b[0;34m[\u001b[0m\u001b[0mvideo_dir\u001b[0m \u001b[0;34m+\u001b[0m \u001b[0mx264\u001b[0m \u001b[0;34m+\u001b[0m \u001b[0mf\u001b[0m \u001b[0;32mfor\u001b[0m \u001b[0mf\u001b[0m \u001b[0;32min\u001b[0m \u001b[0mos\u001b[0m\u001b[0;34m.\u001b[0m\u001b[0mlistdir\u001b[0m\u001b[0;34m(\u001b[0m\u001b[0mvideo_dir\u001b[0m \u001b[0;34m+\u001b[0m \u001b[0mx264\u001b[0m\u001b[0;34m)\u001b[0m \u001b[0;32mif\u001b[0m \u001b[0mf\u001b[0m\u001b[0;34m.\u001b[0m\u001b[0mendswith\u001b[0m\u001b[0;34m(\u001b[0m\u001b[0;34m(\u001b[0m\u001b[0;34m\".jpg\"\u001b[0m\u001b[0;34m,\u001b[0m \u001b[0;34m\".jpeg\"\u001b[0m\u001b[0;34m,\u001b[0m \u001b[0;34m\".png\"\u001b[0m\u001b[0;34m)\u001b[0m\u001b[0;34m)\u001b[0m\u001b[0;34m]\u001b[0m\u001b[0;34m\u001b[0m\u001b[0;34m\u001b[0m\u001b[0m\n\u001b[0m\u001b[1;32m     15\u001b[0m \u001b[0mcbrs\u001b[0m \u001b[0;34m=\u001b[0m \u001b[0;34m[\u001b[0m\u001b[0mvideo_dir\u001b[0m \u001b[0;34m+\u001b[0m \u001b[0mcbr\u001b[0m \u001b[0;34m+\u001b[0m \u001b[0mf\u001b[0m \u001b[0;32mfor\u001b[0m \u001b[0mf\u001b[0m \u001b[0;32min\u001b[0m \u001b[0mos\u001b[0m\u001b[0;34m.\u001b[0m\u001b[0mlistdir\u001b[0m\u001b[0;34m(\u001b[0m\u001b[0mvideo_dir\u001b[0m \u001b[0;34m+\u001b[0m \u001b[0mcbr\u001b[0m\u001b[0;34m)\u001b[0m \u001b[0;32mif\u001b[0m \u001b[0mf\u001b[0m\u001b[0;34m.\u001b[0m\u001b[0mendswith\u001b[0m\u001b[0;34m(\u001b[0m\u001b[0;34m(\u001b[0m\u001b[0;34m\".jpg\"\u001b[0m\u001b[0;34m,\u001b[0m \u001b[0;34m\".jpeg\"\u001b[0m\u001b[0;34m,\u001b[0m \u001b[0;34m\".png\"\u001b[0m\u001b[0;34m)\u001b[0m\u001b[0;34m)\u001b[0m\u001b[0;34m]\u001b[0m\u001b[0;34m\u001b[0m\u001b[0;34m\u001b[0m\u001b[0m\n\u001b[1;32m     16\u001b[0m \u001b[0mabrs\u001b[0m \u001b[0;34m=\u001b[0m \u001b[0;34m[\u001b[0m\u001b[0mvideo_dir\u001b[0m \u001b[0;34m+\u001b[0m \u001b[0mabr\u001b[0m \u001b[0;34m+\u001b[0m \u001b[0mf\u001b[0m \u001b[0;32mfor\u001b[0m \u001b[0mf\u001b[0m \u001b[0;32min\u001b[0m \u001b[0mos\u001b[0m\u001b[0;34m.\u001b[0m\u001b[0mlistdir\u001b[0m\u001b[0;34m(\u001b[0m\u001b[0mvideo_dir\u001b[0m \u001b[0;34m+\u001b[0m \u001b[0mabr\u001b[0m\u001b[0;34m)\u001b[0m \u001b[0;32mif\u001b[0m \u001b[0mf\u001b[0m\u001b[0;34m.\u001b[0m\u001b[0mendswith\u001b[0m\u001b[0;34m(\u001b[0m\u001b[0;34m(\u001b[0m\u001b[0;34m\".jpg\"\u001b[0m\u001b[0;34m,\u001b[0m \u001b[0;34m\".jpeg\"\u001b[0m\u001b[0;34m,\u001b[0m \u001b[0;34m\".png\"\u001b[0m\u001b[0;34m)\u001b[0m\u001b[0;34m)\u001b[0m\u001b[0;34m]\u001b[0m\u001b[0;34m\u001b[0m\u001b[0;34m\u001b[0m\u001b[0m\n",
      "\u001b[0;31mFileNotFoundError\u001b[0m: [Errno 2] No such file or directory: ''"
     ]
    }
   ],
   "source": [
    "from PIL import Image\n",
    "import numpy as np\n",
    "import matplotlib.pyplot as plt\n",
    "import math\n",
    "import os\n",
    "\n",
    "video_dir = \"\"\n",
    "x264 = \"\"\n",
    "cbr = \"\"\n",
    "abr = \"\"\n",
    "pattern = {\"cbr\": cbr, \"abr\": abr}\n",
    "mask = \"\"\n",
    "\n",
    "x264s = [video_dir + x264 + f for f in os.listdir(video_dir + x264) if f.endswith((\".jpg\", \".jpeg\", \".png\"))]\n",
    "cbrs = [video_dir + cbr + f for f in os.listdir(video_dir + cbr) if f.endswith((\".jpg\", \".jpeg\", \".png\"))]\n",
    "abrs = [video_dir + abr + f for f in os.listdir(video_dir + abr) if f.endswith((\".jpg\", \".jpeg\", \".png\"))]\n",
    "masks = [video_dir + mask + f for f in os.listdir(video_dir + mask) if f.endswith((\".jpg\", \".jpeg\", \".png\"))]\n",
    "\n",
    "mask_loc = {}\n",
    "\n",
    "def mask_loc(masks):\n",
    "    for mask in masks:\n",
    "        image_mask = np.array(Image.open(mask).convert('L'))\n",
    "        binar_mask = image_mask < 125\n",
    "        image_mask[binar_mask] = 0\n",
    "        mask_loc[mask.split('/')] = binar_mask\n",
    "#        rows,cols = image_mask.shape\n",
    "#        loc = []\n",
    "#        for i in rows:\n",
    "#            for j in cols:\n",
    "#                if image_mask[i, j] > 0:\n",
    "#                    loc.append((i, j))\n",
    "#        mask_loc[mask.split('/')[-1]] = loc\n",
    "\n",
    "def ave_psnr(mask_loc, state=\"cbr\"):\n",
    "    images = pattern[\"cbr\"]\n",
    "    images1 = []\n",
    "    images2 = []\n",
    "    ave_psnr = 0\n",
    "    index = 1\n",
    "    for image in images:\n",
    "        if index > len(mask_loc): break\n",
    "\n",
    "        image1 = np.array(Image.open(image).convert('L'))\n",
    "        image1[mask_loc[image.split('/')[-1]]] = 0\n",
    "        images1.append(image1)\n",
    "\n",
    "        index = index + 1\n",
    "\n",
    "    index = 1\n",
    "    for x264 in x264s:\n",
    "        if index > len(mask_loc): break\n",
    "\n",
    "        image2 = np.array(Image.open(x264).convert('L'))\n",
    "        image2[mask_loc[x264.split('/')[-1]]] = 0\n",
    "        images2.append(image2)\n",
    "\n",
    "        index = index + 1\n",
    "\n",
    "    for image1, image2 in zip(images1, images2):\n",
    "            temp = psnr(image1, image2)\n",
    "            ave_psnr = ave_psnr + temp\n",
    "    ave_psnr = ave_psnr / len(images1)\n",
    "\n",
    "    return ave_psnr\n",
    "\n",
    "    \n",
    "def psnr(img1, img2):\n",
    "   mse = np.mean((img1/1.0 - img2/1.0) ** 2 )\n",
    "   if mse < 1.0e-10:\n",
    "      return 100\n",
    "   return 10 * math.log10(255.0**2/mse)"
   ]
  },
  {
   "cell_type": "code",
   "execution_count": null,
   "metadata": {},
   "outputs": [],
   "source": []
  }
 ],
 "metadata": {
  "kernelspec": {
   "display_name": "Python 3",
   "language": "python",
   "name": "python3"
  },
  "language_info": {
   "codemirror_mode": {
    "name": "ipython",
    "version": 3
   },
   "file_extension": ".py",
   "mimetype": "text/x-python",
   "name": "python",
   "nbconvert_exporter": "python",
   "pygments_lexer": "ipython3",
   "version": "3.7.3"
  }
 },
 "nbformat": 4,
 "nbformat_minor": 2
}
