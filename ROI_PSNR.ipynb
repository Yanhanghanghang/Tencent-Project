{
 "cells": [
  {
   "cell_type": "code",
   "execution_count": 61,
   "metadata": {},
   "outputs": [],
   "source": [
    "from PIL import Image\n",
    "import numpy as np\n",
    "import matplotlib.pyplot as plt\n",
    "import math\n",
    "import os\n",
    "\n",
    "video_dir = \"E:/研究生期间学习/Tencent/psnr\"\n",
    "x264 = \"/x264\"\n",
    "cbr = \"/cbr\"\n",
    "abr = \"/abr\"\n",
    "\n",
    "mask = \"/mask\"\n",
    "# raw = \"/raw\"\n",
    "\n",
    "x264s = [video_dir + x264 + \"/\" + f for f in os.listdir(video_dir + x264) if f.endswith((\".jpg\", \".jpeg\", \".png\"))]\n",
    "cbrs = [video_dir + cbr + \"/\" + f for f in os.listdir(video_dir + cbr) if f.endswith((\".jpg\", \".jpeg\", \".png\"))]\n",
    "abrs = [video_dir + abr + \"/\" + f for f in os.listdir(video_dir + abr) if f.endswith((\".jpg\", \".jpeg\", \".png\"))]\n",
    "masks = [video_dir + mask + \"/\" + f for f in os.listdir(video_dir + mask) if f.endswith((\".jpg\", \".jpeg\", \".png\"))]\n",
    "\n",
    "pattern = {\"cbr\": cbrs, \"abr\": abrs}\n",
    "\n",
    "mask_locs = {}\n",
    "\n",
    "def mask_location(masks):\n",
    "    for mask in masks:\n",
    "        image_mask = np.array(Image.open(mask).convert('L'))\n",
    "        binar_mask = image_mask < 125\n",
    "#        image_mask[binar_mask] = 0\n",
    "        \n",
    "        idx = mask.split('/')\n",
    "        idx = idx[-1]\n",
    "        idx = idx[0:4]\n",
    "\n",
    "        \n",
    "        mask_locs[idx] = binar_mask\n",
    "\n",
    "\n",
    "def ave_psnr(mask_locs, state):\n",
    "    images = pattern[state]\n",
    "    images1 = []\n",
    "    images2 = []\n",
    "    ave_psnr = 0\n",
    "    \n",
    "    index = 1\n",
    "    for image in images:\n",
    "        if index > len(mask_locs): break\n",
    "\n",
    "        image1 = np.array(Image.open(image).convert('L'))\n",
    "        \n",
    "        idx = image.split('/')\n",
    "        idx = idx[-1]\n",
    "        idx = idx[0:4]\n",
    "        \n",
    "        image1[mask_locs[idx]] = 0\n",
    "        images1.append(image1)\n",
    "\n",
    "        index = index + 1\n",
    "\n",
    "\n",
    "    index = 1               \n",
    "    for x264 in x264s:\n",
    "        if index > len(mask_locs): break\n",
    "\n",
    "        image2 = np.array(Image.open(x264).convert('L'))\n",
    "               \n",
    "        idx = x264.split('/')\n",
    "        idx = idx[-1]\n",
    "        idx = idx[0:4]\n",
    "               \n",
    "        image2[mask_locs[idx]] = 0\n",
    "        images2.append(image2)\n",
    "\n",
    "        index = index + 1\n",
    "\n",
    "    for img1, img2 in zip(images1, images2):\n",
    "            temp = psnr(img1, img2)\n",
    "            ave_psnr = ave_psnr + temp\n",
    "    ave_psnr = ave_psnr / len(images1)\n",
    "\n",
    "    return ave_psnr\n",
    "\n",
    "    \n",
    "def psnr(img1, img2):\n",
    "   mse = np.mean((img1/1.0 - img2/1.0) ** 2 )\n",
    "   if mse < 1.0e-10:\n",
    "      return 100\n",
    "   return 10 * math.log10(255.0**2/mse)"
   ]
  },
  {
   "cell_type": "code",
   "execution_count": 66,
   "metadata": {},
   "outputs": [
    {
     "data": {
      "text/plain": [
       "34.62866191250379"
      ]
     },
     "execution_count": 66,
     "metadata": {},
     "output_type": "execute_result"
    }
   ],
   "source": [
    "mask_location(masks)\n",
    "ave_psnr(mask_locs, state=\"cbr\")"
   ]
  },
  {
   "cell_type": "code",
   "execution_count": 69,
   "metadata": {},
   "outputs": [
    {
     "data": {
      "text/plain": [
       "40.37813576936062"
      ]
     },
     "execution_count": 69,
     "metadata": {},
     "output_type": "execute_result"
    }
   ],
   "source": [
    "mask_location(masks)\n",
    "ave_psnr(mask_locs, state=\"abr\")"
   ]
  },
  {
   "cell_type": "code",
   "execution_count": null,
   "metadata": {
    "collapsed": true
   },
   "outputs": [],
   "source": []
  }
 ],
 "metadata": {
  "kernelspec": {
   "display_name": "Python 3",
   "language": "python",
   "name": "python3"
  },
  "language_info": {
   "codemirror_mode": {
    "name": "ipython",
    "version": 3
   },
   "file_extension": ".py",
   "mimetype": "text/x-python",
   "name": "python",
   "nbconvert_exporter": "python",
   "pygments_lexer": "ipython3",
   "version": "3.5.5"
  }
 },
 "nbformat": 4,
 "nbformat_minor": 2
}
